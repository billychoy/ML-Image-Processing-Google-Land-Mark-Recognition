{
 "cells": [
  {
   "cell_type": "markdown",
   "id": "edd73fea",
   "metadata": {
    "papermill": {
     "duration": 0.009266,
     "end_time": "2022-08-07T22:36:46.900667",
     "exception": false,
     "start_time": "2022-08-07T22:36:46.891401",
     "status": "completed"
    },
    "tags": []
   },
   "source": [
    "# Import Library"
   ]
  },
  {
   "cell_type": "code",
   "execution_count": 1,
   "id": "8aa800ca",
   "metadata": {
    "execution": {
     "iopub.execute_input": "2022-08-07T22:36:46.919454Z",
     "iopub.status.busy": "2022-08-07T22:36:46.918199Z",
     "iopub.status.idle": "2022-08-07T22:37:10.918497Z",
     "shell.execute_reply": "2022-08-07T22:37:10.917106Z"
    },
    "papermill": {
     "duration": 24.013503,
     "end_time": "2022-08-07T22:37:10.922429",
     "exception": false,
     "start_time": "2022-08-07T22:36:46.908926",
     "status": "completed"
    },
    "tags": []
   },
   "outputs": [
    {
     "name": "stdout",
     "output_type": "stream",
     "text": [
      "\u001b[33mWARNING: Running pip as the 'root' user can result in broken permissions and conflicting behaviour with the system package manager. It is recommended to use a virtual environment instead: https://pip.pypa.io/warnings/venv\u001b[0m\u001b[33m\r\n",
      "\u001b[0m"
     ]
    }
   ],
   "source": [
    "import numpy as np\n",
    "import pandas as pd\n",
    "import cv2\n",
    "import matplotlib.pyplot as plt\n",
    "import seaborn as sns\n",
    "import warnings\n",
    "from scipy import stats\n",
    "import glob\n",
    "warnings.filterwarnings('ignore')\n",
    "\n",
    "!pip install -q efficientnet\n",
    "import efficientnet.tfkeras as efn\n",
    "from tensorflow.keras.applications.xception import Xception\n",
    "from keras.preprocessing.image import ImageDataGenerator\n",
    "from keras.callbacks import EarlyStopping, ModelCheckpoint\n",
    "\n",
    "import keras.layers as L\n",
    "import tensorflow as tf\n",
    "import keras \n",
    "from keras import Model\n",
    "from keras.models import load_model"
   ]
  },
  {
   "cell_type": "markdown",
   "id": "c8c2fc45",
   "metadata": {
    "papermill": {
     "duration": 0.007581,
     "end_time": "2022-08-07T22:37:10.938657",
     "exception": false,
     "start_time": "2022-08-07T22:37:10.931076",
     "status": "completed"
    },
    "tags": []
   },
   "source": [
    "# Import data"
   ]
  },
  {
   "cell_type": "code",
   "execution_count": 2,
   "id": "98a4afc7",
   "metadata": {
    "execution": {
     "iopub.execute_input": "2022-08-07T22:37:10.958150Z",
     "iopub.status.busy": "2022-08-07T22:37:10.955888Z",
     "iopub.status.idle": "2022-08-07T22:37:12.518395Z",
     "shell.execute_reply": "2022-08-07T22:37:12.516994Z"
    },
    "papermill": {
     "duration": 1.574891,
     "end_time": "2022-08-07T22:37:12.521056",
     "exception": false,
     "start_time": "2022-08-07T22:37:10.946165",
     "status": "completed"
    },
    "tags": []
   },
   "outputs": [
    {
     "data": {
      "text/html": [
       "<div>\n",
       "<style scoped>\n",
       "    .dataframe tbody tr th:only-of-type {\n",
       "        vertical-align: middle;\n",
       "    }\n",
       "\n",
       "    .dataframe tbody tr th {\n",
       "        vertical-align: top;\n",
       "    }\n",
       "\n",
       "    .dataframe thead th {\n",
       "        text-align: right;\n",
       "    }\n",
       "</style>\n",
       "<table border=\"1\" class=\"dataframe\">\n",
       "  <thead>\n",
       "    <tr style=\"text-align: right;\">\n",
       "      <th></th>\n",
       "      <th>id</th>\n",
       "      <th>landmark_id</th>\n",
       "    </tr>\n",
       "  </thead>\n",
       "  <tbody>\n",
       "    <tr>\n",
       "      <th>0</th>\n",
       "      <td>17660ef415d37059</td>\n",
       "      <td>1</td>\n",
       "    </tr>\n",
       "    <tr>\n",
       "      <th>1</th>\n",
       "      <td>92b6290d571448f6</td>\n",
       "      <td>1</td>\n",
       "    </tr>\n",
       "    <tr>\n",
       "      <th>2</th>\n",
       "      <td>cd41bf948edc0340</td>\n",
       "      <td>1</td>\n",
       "    </tr>\n",
       "    <tr>\n",
       "      <th>3</th>\n",
       "      <td>fb09f1e98c6d2f70</td>\n",
       "      <td>1</td>\n",
       "    </tr>\n",
       "    <tr>\n",
       "      <th>4</th>\n",
       "      <td>25c9dfc7ea69838d</td>\n",
       "      <td>7</td>\n",
       "    </tr>\n",
       "  </tbody>\n",
       "</table>\n",
       "</div>"
      ],
      "text/plain": [
       "                 id landmark_id\n",
       "0  17660ef415d37059           1\n",
       "1  92b6290d571448f6           1\n",
       "2  cd41bf948edc0340           1\n",
       "3  fb09f1e98c6d2f70           1\n",
       "4  25c9dfc7ea69838d           7"
      ]
     },
     "execution_count": 2,
     "metadata": {},
     "output_type": "execute_result"
    }
   ],
   "source": [
    "#import data\n",
    "train = pd.read_csv(\"../input/landmark-recognition-2020/train.csv\", dtype = str)\n",
    "train.head()"
   ]
  },
  {
   "cell_type": "markdown",
   "id": "00faf470",
   "metadata": {
    "papermill": {
     "duration": 0.007333,
     "end_time": "2022-08-07T22:37:12.536914",
     "exception": false,
     "start_time": "2022-08-07T22:37:12.529581",
     "status": "completed"
    },
    "tags": []
   },
   "source": [
    "# Perform data checking"
   ]
  },
  {
   "cell_type": "code",
   "execution_count": 3,
   "id": "6b4ad47e",
   "metadata": {
    "execution": {
     "iopub.execute_input": "2022-08-07T22:37:12.554273Z",
     "iopub.status.busy": "2022-08-07T22:37:12.553913Z",
     "iopub.status.idle": "2022-08-07T22:37:12.562399Z",
     "shell.execute_reply": "2022-08-07T22:37:12.561045Z"
    },
    "papermill": {
     "duration": 0.020389,
     "end_time": "2022-08-07T22:37:12.565281",
     "exception": false,
     "start_time": "2022-08-07T22:37:12.544892",
     "status": "completed"
    },
    "tags": []
   },
   "outputs": [
    {
     "data": {
      "text/plain": [
       "(1580470, 2)"
      ]
     },
     "execution_count": 3,
     "metadata": {},
     "output_type": "execute_result"
    }
   ],
   "source": [
    "#check data size\n",
    "train.shape"
   ]
  },
  {
   "cell_type": "code",
   "execution_count": 4,
   "id": "960f15fe",
   "metadata": {
    "execution": {
     "iopub.execute_input": "2022-08-07T22:37:12.583742Z",
     "iopub.status.busy": "2022-08-07T22:37:12.582737Z",
     "iopub.status.idle": "2022-08-07T22:37:12.731588Z",
     "shell.execute_reply": "2022-08-07T22:37:12.729563Z"
    },
    "papermill": {
     "duration": 0.160527,
     "end_time": "2022-08-07T22:37:12.734077",
     "exception": false,
     "start_time": "2022-08-07T22:37:12.573550",
     "status": "completed"
    },
    "tags": []
   },
   "outputs": [
    {
     "data": {
      "text/plain": [
       "id             0\n",
       "landmark_id    0\n",
       "dtype: int64"
      ]
     },
     "execution_count": 4,
     "metadata": {},
     "output_type": "execute_result"
    }
   ],
   "source": [
    "#check null value\n",
    "train.isnull().sum()"
   ]
  },
  {
   "cell_type": "code",
   "execution_count": 5,
   "id": "691cbd41",
   "metadata": {
    "execution": {
     "iopub.execute_input": "2022-08-07T22:37:12.753673Z",
     "iopub.status.busy": "2022-08-07T22:37:12.753318Z",
     "iopub.status.idle": "2022-08-07T22:37:13.571143Z",
     "shell.execute_reply": "2022-08-07T22:37:13.569766Z"
    },
    "papermill": {
     "duration": 0.830003,
     "end_time": "2022-08-07T22:37:13.574035",
     "exception": false,
     "start_time": "2022-08-07T22:37:12.744032",
     "status": "completed"
    },
    "tags": []
   },
   "outputs": [
    {
     "data": {
      "text/plain": [
       "0"
      ]
     },
     "execution_count": 5,
     "metadata": {},
     "output_type": "execute_result"
    }
   ],
   "source": [
    "#check duplicates\n",
    "train.duplicated().sum()"
   ]
  },
  {
   "cell_type": "code",
   "execution_count": 6,
   "id": "2b2a0872",
   "metadata": {
    "execution": {
     "iopub.execute_input": "2022-08-07T22:37:13.592758Z",
     "iopub.status.busy": "2022-08-07T22:37:13.592399Z",
     "iopub.status.idle": "2022-08-07T22:37:14.275423Z",
     "shell.execute_reply": "2022-08-07T22:37:14.274041Z"
    },
    "papermill": {
     "duration": 0.695557,
     "end_time": "2022-08-07T22:37:14.278367",
     "exception": false,
     "start_time": "2022-08-07T22:37:13.582810",
     "status": "completed"
    },
    "tags": []
   },
   "outputs": [
    {
     "data": {
      "text/plain": [
       "id             1580470\n",
       "landmark_id      81313\n",
       "dtype: int64"
      ]
     },
     "execution_count": 6,
     "metadata": {},
     "output_type": "execute_result"
    }
   ],
   "source": [
    "#check unique number\n",
    "train.nunique()"
   ]
  },
  {
   "cell_type": "markdown",
   "id": "e1ee0774",
   "metadata": {
    "papermill": {
     "duration": 0.008353,
     "end_time": "2022-08-07T22:37:14.296082",
     "exception": false,
     "start_time": "2022-08-07T22:37:14.287729",
     "status": "completed"
    },
    "tags": []
   },
   "source": [
    "# Understand the data"
   ]
  },
  {
   "cell_type": "code",
   "execution_count": 7,
   "id": "b96b24e0",
   "metadata": {
    "execution": {
     "iopub.execute_input": "2022-08-07T22:37:14.314773Z",
     "iopub.status.busy": "2022-08-07T22:37:14.314412Z",
     "iopub.status.idle": "2022-08-07T22:37:19.117010Z",
     "shell.execute_reply": "2022-08-07T22:37:19.115372Z"
    },
    "papermill": {
     "duration": 4.817104,
     "end_time": "2022-08-07T22:37:19.121699",
     "exception": false,
     "start_time": "2022-08-07T22:37:14.304595",
     "status": "completed"
    },
    "tags": []
   },
   "outputs": [
    {
     "data": {
      "text/html": [
       "<div>\n",
       "<style scoped>\n",
       "    .dataframe tbody tr th:only-of-type {\n",
       "        vertical-align: middle;\n",
       "    }\n",
       "\n",
       "    .dataframe tbody tr th {\n",
       "        vertical-align: top;\n",
       "    }\n",
       "\n",
       "    .dataframe thead th {\n",
       "        text-align: right;\n",
       "    }\n",
       "</style>\n",
       "<table border=\"1\" class=\"dataframe\">\n",
       "  <thead>\n",
       "    <tr style=\"text-align: right;\">\n",
       "      <th></th>\n",
       "      <th>id</th>\n",
       "      <th>landmark_id</th>\n",
       "      <th>path</th>\n",
       "    </tr>\n",
       "  </thead>\n",
       "  <tbody>\n",
       "    <tr>\n",
       "      <th>0</th>\n",
       "      <td>17660ef415d37059</td>\n",
       "      <td>1</td>\n",
       "      <td>../input/landmark-recognition-2020/train/1/7/6...</td>\n",
       "    </tr>\n",
       "    <tr>\n",
       "      <th>1</th>\n",
       "      <td>92b6290d571448f6</td>\n",
       "      <td>1</td>\n",
       "      <td>../input/landmark-recognition-2020/train/9/2/b...</td>\n",
       "    </tr>\n",
       "    <tr>\n",
       "      <th>2</th>\n",
       "      <td>cd41bf948edc0340</td>\n",
       "      <td>1</td>\n",
       "      <td>../input/landmark-recognition-2020/train/c/d/4...</td>\n",
       "    </tr>\n",
       "    <tr>\n",
       "      <th>3</th>\n",
       "      <td>fb09f1e98c6d2f70</td>\n",
       "      <td>1</td>\n",
       "      <td>../input/landmark-recognition-2020/train/f/b/0...</td>\n",
       "    </tr>\n",
       "    <tr>\n",
       "      <th>4</th>\n",
       "      <td>25c9dfc7ea69838d</td>\n",
       "      <td>7</td>\n",
       "      <td>../input/landmark-recognition-2020/train/2/5/c...</td>\n",
       "    </tr>\n",
       "  </tbody>\n",
       "</table>\n",
       "</div>"
      ],
      "text/plain": [
       "                 id landmark_id  \\\n",
       "0  17660ef415d37059           1   \n",
       "1  92b6290d571448f6           1   \n",
       "2  cd41bf948edc0340           1   \n",
       "3  fb09f1e98c6d2f70           1   \n",
       "4  25c9dfc7ea69838d           7   \n",
       "\n",
       "                                                path  \n",
       "0  ../input/landmark-recognition-2020/train/1/7/6...  \n",
       "1  ../input/landmark-recognition-2020/train/9/2/b...  \n",
       "2  ../input/landmark-recognition-2020/train/c/d/4...  \n",
       "3  ../input/landmark-recognition-2020/train/f/b/0...  \n",
       "4  ../input/landmark-recognition-2020/train/2/5/c...  "
      ]
     },
     "execution_count": 7,
     "metadata": {},
     "output_type": "execute_result"
    }
   ],
   "source": [
    "# Create the path to images\n",
    "train['path'] = \"../input/landmark-recognition-2020/train/\" + train.id.str[0] + '/' + train.id.str[1] + '/' + train.id.str[2]+'/' + train.id + '.jpg'\n",
    "train.head()"
   ]
  },
  {
   "cell_type": "code",
   "execution_count": 8,
   "id": "fb06d795",
   "metadata": {
    "execution": {
     "iopub.execute_input": "2022-08-07T22:37:19.178543Z",
     "iopub.status.busy": "2022-08-07T22:37:19.178115Z",
     "iopub.status.idle": "2022-08-07T22:37:19.738502Z",
     "shell.execute_reply": "2022-08-07T22:37:19.737047Z"
    },
    "papermill": {
     "duration": 0.59727,
     "end_time": "2022-08-07T22:37:19.742720",
     "exception": false,
     "start_time": "2022-08-07T22:37:19.145450",
     "status": "completed"
    },
    "tags": []
   },
   "outputs": [
    {
     "name": "stdout",
     "output_type": "stream",
     "text": [
      "path: ../input/landmark-recognition-2020/train/7/1/8/718b42bfb81f2650.jpg\n",
      "image size: 1298400\n"
     ]
    },
    {
     "data": {
      "text/plain": [
       "<matplotlib.image.AxesImage at 0x7f009ce4a890>"
      ]
     },
     "execution_count": 8,
     "metadata": {},
     "output_type": "execute_result"
    },
    {
     "data": {
      "image/png": "[encoded data removed]",
      "text/plain": [
       "<Figure size 432x288 with 1 Axes>"
      ]
     },
     "metadata": {
      "needs_background": "light"
     },
     "output_type": "display_data"
    }
   ],
   "source": [
    "# Randomly generate a picture and display the image to verify the file path\n",
    "from random import randint\n",
    "id = randint(0, train.shape[0])\n",
    "file = train['path'][id]\n",
    "img = cv2.imread(file)\n",
    "print(\"path:\",file)\n",
    "print(\"image size:\", img.size)\n",
    "plt.imshow(img)"
   ]
  },
  {
   "cell_type": "code",
   "execution_count": 9,
   "id": "52151d68",
   "metadata": {
    "execution": {
     "iopub.execute_input": "2022-08-07T22:37:19.766827Z",
     "iopub.status.busy": "2022-08-07T22:37:19.766464Z",
     "iopub.status.idle": "2022-08-07T22:37:19.888737Z",
     "shell.execute_reply": "2022-08-07T22:37:19.887144Z"
    },
    "papermill": {
     "duration": 0.138151,
     "end_time": "2022-08-07T22:37:19.891743",
     "exception": false,
     "start_time": "2022-08-07T22:37:19.753592",
     "status": "completed"
    },
    "tags": []
   },
   "outputs": [
    {
     "data": {
      "text/plain": [
       "138982    6272\n",
       "126637    2231\n",
       "20409     1758\n",
       "83144     1741\n",
       "113209    1135\n",
       "          ... \n",
       "84677        2\n",
       "36989        2\n",
       "133688       2\n",
       "17316        2\n",
       "111405       2\n",
       "Name: landmark_id, Length: 81313, dtype: int64"
      ]
     },
     "execution_count": 9,
     "metadata": {},
     "output_type": "execute_result"
    }
   ],
   "source": [
    "#check if the landmark_id overlab\n",
    "train.landmark_id.value_counts()"
   ]
  },
  {
   "cell_type": "code",
   "execution_count": 10,
   "id": "28237a45",
   "metadata": {
    "execution": {
     "iopub.execute_input": "2022-08-07T22:37:19.915728Z",
     "iopub.status.busy": "2022-08-07T22:37:19.915367Z",
     "iopub.status.idle": "2022-08-07T22:37:20.330269Z",
     "shell.execute_reply": "2022-08-07T22:37:20.328657Z"
    },
    "papermill": {
     "duration": 0.430545,
     "end_time": "2022-08-07T22:37:20.333220",
     "exception": false,
     "start_time": "2022-08-07T22:37:19.902675",
     "status": "completed"
    },
    "tags": []
   },
   "outputs": [
    {
     "data": {
      "text/plain": [
       "<AxesSubplot:>"
      ]
     },
     "execution_count": 10,
     "metadata": {},
     "output_type": "execute_result"
    },
    {
     "data": {
      "image/png": "[encoded data removed]",
      "text/plain": [
       "<Figure size 432x288 with 1 Axes>"
      ]
     },
     "metadata": {
      "needs_background": "light"
     },
     "output_type": "display_data"
    }
   ],
   "source": [
    "#show top 20 landmark_id\n",
    "train.landmark_id.value_counts().head(20).sort_values().plot(kind = 'barh')"
   ]
  },
  {
   "cell_type": "code",
   "execution_count": 11,
   "id": "a7ebec2d",
   "metadata": {
    "execution": {
     "iopub.execute_input": "2022-08-07T22:37:20.358714Z",
     "iopub.status.busy": "2022-08-07T22:37:20.358322Z",
     "iopub.status.idle": "2022-08-07T22:37:21.237822Z",
     "shell.execute_reply": "2022-08-07T22:37:21.236204Z"
    },
    "papermill": {
     "duration": 0.895422,
     "end_time": "2022-08-07T22:37:21.240704",
     "exception": false,
     "start_time": "2022-08-07T22:37:20.345282",
     "status": "completed"
    },
    "tags": []
   },
   "outputs": [
    {
     "data": {
      "text/plain": [
       "<AxesSubplot:>"
      ]
     },
     "execution_count": 11,
     "metadata": {},
     "output_type": "execute_result"
    },
    {
     "data": {
      "image/png": "[encoded data removed]",
      "text/plain": [
       "<Figure size 432x288 with 1 Axes>"
      ]
     },
     "metadata": {
      "needs_background": "light"
     },
     "output_type": "display_data"
    }
   ],
   "source": [
    "#show tail 50 landmark_id\n",
    "train.landmark_id.value_counts().tail(50).sort_values().plot(kind = 'barh')"
   ]
  },
  {
   "cell_type": "markdown",
   "id": "9cc8a595",
   "metadata": {
    "papermill": {
     "duration": 0.011991,
     "end_time": "2022-08-07T22:37:21.265045",
     "exception": false,
     "start_time": "2022-08-07T22:37:21.253054",
     "status": "completed"
    },
    "tags": []
   },
   "source": [
    "# Reduce the size of the data"
   ]
  },
  {
   "cell_type": "code",
   "execution_count": 12,
   "id": "a6e5d9c5",
   "metadata": {
    "execution": {
     "iopub.execute_input": "2022-08-07T22:37:21.291188Z",
     "iopub.status.busy": "2022-08-07T22:37:21.289942Z",
     "iopub.status.idle": "2022-08-07T22:37:21.407724Z",
     "shell.execute_reply": "2022-08-07T22:37:21.405633Z"
    },
    "papermill": {
     "duration": 0.13415,
     "end_time": "2022-08-07T22:37:21.410674",
     "exception": false,
     "start_time": "2022-08-07T22:37:21.276524",
     "status": "completed"
    },
    "tags": []
   },
   "outputs": [
    {
     "data": {
      "text/html": [
       "<div>\n",
       "<style scoped>\n",
       "    .dataframe tbody tr th:only-of-type {\n",
       "        vertical-align: middle;\n",
       "    }\n",
       "\n",
       "    .dataframe tbody tr th {\n",
       "        vertical-align: top;\n",
       "    }\n",
       "\n",
       "    .dataframe thead th {\n",
       "        text-align: right;\n",
       "    }\n",
       "</style>\n",
       "<table border=\"1\" class=\"dataframe\">\n",
       "  <thead>\n",
       "    <tr style=\"text-align: right;\">\n",
       "      <th></th>\n",
       "      <th>landmark_id</th>\n",
       "      <th>count</th>\n",
       "    </tr>\n",
       "  </thead>\n",
       "  <tbody>\n",
       "    <tr>\n",
       "      <th>0</th>\n",
       "      <td>138982</td>\n",
       "      <td>6272</td>\n",
       "    </tr>\n",
       "    <tr>\n",
       "      <th>1</th>\n",
       "      <td>126637</td>\n",
       "      <td>2231</td>\n",
       "    </tr>\n",
       "    <tr>\n",
       "      <th>2</th>\n",
       "      <td>20409</td>\n",
       "      <td>1758</td>\n",
       "    </tr>\n",
       "    <tr>\n",
       "      <th>3</th>\n",
       "      <td>83144</td>\n",
       "      <td>1741</td>\n",
       "    </tr>\n",
       "    <tr>\n",
       "      <th>4</th>\n",
       "      <td>113209</td>\n",
       "      <td>1135</td>\n",
       "    </tr>\n",
       "  </tbody>\n",
       "</table>\n",
       "</div>"
      ],
      "text/plain": [
       "  landmark_id  count\n",
       "0      138982   6272\n",
       "1      126637   2231\n",
       "2       20409   1758\n",
       "3       83144   1741\n",
       "4      113209   1135"
      ]
     },
     "execution_count": 12,
     "metadata": {},
     "output_type": "execute_result"
    }
   ],
   "source": [
    "#set landmark_id and count as dataframe\n",
    "landmark_count = pd.DataFrame(train.landmark_id.value_counts())\n",
    "landmark_count = landmark_count.reset_index()\n",
    "#set columns name\n",
    "landmark_count.columns.values[0] = \"landmark_id\"\n",
    "landmark_count.columns.values[1] = \"count\"\n",
    "landmark_count.head()"
   ]
  },
  {
   "cell_type": "code",
   "execution_count": 13,
   "id": "025c157d",
   "metadata": {
    "execution": {
     "iopub.execute_input": "2022-08-07T22:37:21.447772Z",
     "iopub.status.busy": "2022-08-07T22:37:21.447407Z",
     "iopub.status.idle": "2022-08-07T22:37:21.455581Z",
     "shell.execute_reply": "2022-08-07T22:37:21.454047Z"
    },
    "papermill": {
     "duration": 0.036019,
     "end_time": "2022-08-07T22:37:21.460120",
     "exception": false,
     "start_time": "2022-08-07T22:37:21.424101",
     "status": "completed"
    },
    "tags": []
   },
   "outputs": [
    {
     "data": {
      "text/plain": [
       "(81313, 2)"
      ]
     },
     "execution_count": 13,
     "metadata": {},
     "output_type": "execute_result"
    }
   ],
   "source": [
    "#count total landmark\n",
    "landmark_count.shape"
   ]
  },
  {
   "cell_type": "code",
   "execution_count": 14,
   "id": "2cbde005",
   "metadata": {
    "execution": {
     "iopub.execute_input": "2022-08-07T22:37:21.485694Z",
     "iopub.status.busy": "2022-08-07T22:37:21.485353Z",
     "iopub.status.idle": "2022-08-07T22:37:21.496170Z",
     "shell.execute_reply": "2022-08-07T22:37:21.494533Z"
    },
    "papermill": {
     "duration": 0.027175,
     "end_time": "2022-08-07T22:37:21.499196",
     "exception": false,
     "start_time": "2022-08-07T22:37:21.472021",
     "status": "completed"
    },
    "tags": []
   },
   "outputs": [
    {
     "data": {
      "text/plain": [
       "(51, 2)"
      ]
     },
     "execution_count": 14,
     "metadata": {},
     "output_type": "execute_result"
    }
   ],
   "source": [
    "#keep the landmark with count >= 500 only to increase accuracy\n",
    "#remove some data for easy handling\n",
    "landmark_count1 = landmark_count[landmark_count['count'] >= 500]\n",
    "landmark_count1.shape"
   ]
  },
  {
   "cell_type": "code",
   "execution_count": 15,
   "id": "b33bc852",
   "metadata": {
    "execution": {
     "iopub.execute_input": "2022-08-07T22:37:21.525744Z",
     "iopub.status.busy": "2022-08-07T22:37:21.525384Z",
     "iopub.status.idle": "2022-08-07T22:37:21.722895Z",
     "shell.execute_reply": "2022-08-07T22:37:21.721298Z"
    },
    "papermill": {
     "duration": 0.214957,
     "end_time": "2022-08-07T22:37:21.726464",
     "exception": false,
     "start_time": "2022-08-07T22:37:21.511507",
     "status": "completed"
    },
    "tags": []
   },
   "outputs": [
    {
     "data": {
      "text/plain": [
       "(45579, 3)"
      ]
     },
     "execution_count": 15,
     "metadata": {},
     "output_type": "execute_result"
    }
   ],
   "source": [
    "#use inner join to remove the unwanted landmark\n",
    "selected_df = pd.merge(train, landmark_count1, on = 'landmark_id', how='inner')\n",
    "selected_df.drop('count', axis = 1, inplace = True)\n",
    "selected_df.shape"
   ]
  },
  {
   "cell_type": "code",
   "execution_count": 16,
   "id": "42b6e42a",
   "metadata": {
    "execution": {
     "iopub.execute_input": "2022-08-07T22:37:21.753323Z",
     "iopub.status.busy": "2022-08-07T22:37:21.752928Z",
     "iopub.status.idle": "2022-08-07T22:37:21.765593Z",
     "shell.execute_reply": "2022-08-07T22:37:21.764222Z"
    },
    "papermill": {
     "duration": 0.029684,
     "end_time": "2022-08-07T22:37:21.768625",
     "exception": false,
     "start_time": "2022-08-07T22:37:21.738941",
     "status": "completed"
    },
    "tags": []
   },
   "outputs": [
    {
     "data": {
      "text/html": [
       "<div>\n",
       "<style scoped>\n",
       "    .dataframe tbody tr th:only-of-type {\n",
       "        vertical-align: middle;\n",
       "    }\n",
       "\n",
       "    .dataframe tbody tr th {\n",
       "        vertical-align: top;\n",
       "    }\n",
       "\n",
       "    .dataframe thead th {\n",
       "        text-align: right;\n",
       "    }\n",
       "</style>\n",
       "<table border=\"1\" class=\"dataframe\">\n",
       "  <thead>\n",
       "    <tr style=\"text-align: right;\">\n",
       "      <th></th>\n",
       "      <th>id</th>\n",
       "      <th>landmark_id</th>\n",
       "      <th>path</th>\n",
       "    </tr>\n",
       "  </thead>\n",
       "  <tbody>\n",
       "    <tr>\n",
       "      <th>0</th>\n",
       "      <td>00cba0067c078490</td>\n",
       "      <td>27</td>\n",
       "      <td>../input/landmark-recognition-2020/train/0/0/c...</td>\n",
       "    </tr>\n",
       "    <tr>\n",
       "      <th>1</th>\n",
       "      <td>00f928e383e1d121</td>\n",
       "      <td>27</td>\n",
       "      <td>../input/landmark-recognition-2020/train/0/0/f...</td>\n",
       "    </tr>\n",
       "    <tr>\n",
       "      <th>2</th>\n",
       "      <td>0110a04e618bc368</td>\n",
       "      <td>27</td>\n",
       "      <td>../input/landmark-recognition-2020/train/0/1/1...</td>\n",
       "    </tr>\n",
       "    <tr>\n",
       "      <th>3</th>\n",
       "      <td>026afdc670937e3b</td>\n",
       "      <td>27</td>\n",
       "      <td>../input/landmark-recognition-2020/train/0/2/6...</td>\n",
       "    </tr>\n",
       "    <tr>\n",
       "      <th>4</th>\n",
       "      <td>0319627771784e54</td>\n",
       "      <td>27</td>\n",
       "      <td>../input/landmark-recognition-2020/train/0/3/1...</td>\n",
       "    </tr>\n",
       "  </tbody>\n",
       "</table>\n",
       "</div>"
      ],
      "text/plain": [
       "                 id landmark_id  \\\n",
       "0  00cba0067c078490          27   \n",
       "1  00f928e383e1d121          27   \n",
       "2  0110a04e618bc368          27   \n",
       "3  026afdc670937e3b          27   \n",
       "4  0319627771784e54          27   \n",
       "\n",
       "                                                path  \n",
       "0  ../input/landmark-recognition-2020/train/0/0/c...  \n",
       "1  ../input/landmark-recognition-2020/train/0/0/f...  \n",
       "2  ../input/landmark-recognition-2020/train/0/1/1...  \n",
       "3  ../input/landmark-recognition-2020/train/0/2/6...  \n",
       "4  ../input/landmark-recognition-2020/train/0/3/1...  "
      ]
     },
     "execution_count": 16,
     "metadata": {},
     "output_type": "execute_result"
    }
   ],
   "source": [
    "selected_df.head()"
   ]
  },
  {
   "cell_type": "markdown",
   "id": "f3714a16",
   "metadata": {
    "papermill": {
     "duration": 0.012439,
     "end_time": "2022-08-07T22:37:21.792936",
     "exception": false,
     "start_time": "2022-08-07T22:37:21.780497",
     "status": "completed"
    },
    "tags": []
   },
   "source": [
    "# Build Model - Method 1"
   ]
  },
  {
   "cell_type": "code",
   "execution_count": 17,
   "id": "22f0cc9d",
   "metadata": {
    "execution": {
     "iopub.execute_input": "2022-08-07T22:37:21.819276Z",
     "iopub.status.busy": "2022-08-07T22:37:21.818925Z",
     "iopub.status.idle": "2022-08-07T22:37:21.824813Z",
     "shell.execute_reply": "2022-08-07T22:37:21.823364Z"
    },
    "papermill": {
     "duration": 0.022204,
     "end_time": "2022-08-07T22:37:21.827514",
     "exception": false,
     "start_time": "2022-08-07T22:37:21.805310",
     "status": "completed"
    },
    "tags": []
   },
   "outputs": [],
   "source": [
    "val_split = 0.25\n",
    "batch_size = 32\n",
    "img_width = img_height = 192"
   ]
  },
  {
   "cell_type": "code",
   "execution_count": 18,
   "id": "8ae4b147",
   "metadata": {
    "execution": {
     "iopub.execute_input": "2022-08-07T22:37:21.854042Z",
     "iopub.status.busy": "2022-08-07T22:37:21.853665Z",
     "iopub.status.idle": "2022-08-07T22:38:40.968700Z",
     "shell.execute_reply": "2022-08-07T22:38:40.966546Z"
    },
    "papermill": {
     "duration": 79.132748,
     "end_time": "2022-08-07T22:38:40.972547",
     "exception": false,
     "start_time": "2022-08-07T22:37:21.839799",
     "status": "completed"
    },
    "tags": []
   },
   "outputs": [
    {
     "name": "stdout",
     "output_type": "stream",
     "text": [
      "Found 34185 validated image filenames belonging to 51 classes.\n",
      "Found 11394 validated image filenames belonging to 51 classes.\n"
     ]
    }
   ],
   "source": [
    "#Generate train data, validation data set\n",
    "datagen=ImageDataGenerator(validation_split=val_split,rescale=1. / 255)\n",
    "\n",
    "train_generator=datagen.flow_from_dataframe(dataframe=selected_df,\n",
    "                                            #directory=\"/kaggle/input/landmark-recognition-2020/train/\",\n",
    "                                            x_col=\"path\",\n",
    "                                            y_col=\"landmark_id\",\n",
    "                                            subset=\"training\",\n",
    "                                            batch_size=32,\n",
    "                                            seed=42,\n",
    "                                            shuffle=True,\n",
    "                                            class_mode=\"categorical\",\n",
    "                                            target_size=(img_height, img_width))\n",
    "\n",
    "valid_generator=datagen.flow_from_dataframe(\n",
    "dataframe=selected_df,\n",
    "#directory=\"/kaggle/input/landmark-recognition-2020/train/\",\n",
    "x_col=\"path\",\n",
    "y_col=\"landmark_id\",\n",
    "subset=\"validation\",\n",
    "batch_size=32,\n",
    "seed=42,\n",
    "shuffle=True,\n",
    "class_mode=\"categorical\",\n",
    "target_size=(img_height, img_width))"
   ]
  },
  {
   "cell_type": "code",
   "execution_count": 19,
   "id": "4b540909",
   "metadata": {
    "execution": {
     "iopub.execute_input": "2022-08-07T22:38:41.002229Z",
     "iopub.status.busy": "2022-08-07T22:38:41.001115Z",
     "iopub.status.idle": "2022-08-07T22:38:41.014775Z",
     "shell.execute_reply": "2022-08-07T22:38:41.013383Z"
    },
    "papermill": {
     "duration": 0.030372,
     "end_time": "2022-08-07T22:38:41.017377",
     "exception": false,
     "start_time": "2022-08-07T22:38:40.987005",
     "status": "completed"
    },
    "tags": []
   },
   "outputs": [],
   "source": [
    "def my_model(input_shape, num_classes, dropout, learning_rate = 0.0002):\n",
    "\n",
    "    base_model = Xception(input_shape=input_shape,weights='imagenet', include_top=False)\n",
    "\n",
    "    x = base_model.output\n",
    "    x = L.Dropout(dropout)(x)\n",
    "    x = L.SeparableConv2D(256, kernel_size=(3, 3), activation='relu',kernel_initializer = tf.keras.initializers.he_uniform(seed=1))(x)\n",
    "    x = L.BatchNormalization()(x)\n",
    "    x = L.SeparableConv2D(128, kernel_size=(3, 3), activation='relu',kernel_initializer = tf.keras.initializers.he_uniform(seed=3))(x)\n",
    "    x = L.BatchNormalization()(x)\n",
    "    x = L.SeparableConv2D(num_classes,kernel_size = (1,1), depth_multiplier=1, activation = 'relu',\n",
    "                kernel_initializer = tf.keras.initializers.he_uniform(seed=0),\n",
    "                kernel_regularizer=tf.keras.regularizers.l1_l2(l1=0.1, l2=0.01)\n",
    "                )(x)\n",
    "    x = L.GlobalMaxPooling2D()(x)\n",
    "    x = L.BatchNormalization()(x)\n",
    "    x = L.Flatten()(x)\n",
    "\n",
    "    pred = L.Dense(num_classes, activation = 'softmax')(x)\n",
    "\n",
    "    for layer in base_model.layers:\n",
    "        layer.trainable = False\n",
    "\n",
    "    model = Model(inputs = base_model.input,outputs = pred,name='model')\n",
    "\n",
    "    model.compile(loss='categorical_crossentropy',experimental_steps_per_execution=8, optimizer = tf.keras.optimizers.Adagrad(learning_rate=0.01), metrics='categorical_accuracy')\n",
    "\n",
    "    model.summary()\n",
    "    return model"
   ]
  },
  {
   "cell_type": "code",
   "execution_count": 20,
   "id": "12a0d763",
   "metadata": {
    "execution": {
     "iopub.execute_input": "2022-08-07T22:38:41.045052Z",
     "iopub.status.busy": "2022-08-07T22:38:41.043829Z",
     "iopub.status.idle": "2022-08-07T22:38:48.558266Z",
     "shell.execute_reply": "2022-08-07T22:38:48.556861Z"
    },
    "papermill": {
     "duration": 7.536608,
     "end_time": "2022-08-07T22:38:48.566390",
     "exception": false,
     "start_time": "2022-08-07T22:38:41.029782",
     "status": "completed"
    },
    "tags": []
   },
   "outputs": [
    {
     "name": "stderr",
     "output_type": "stream",
     "text": [
      "2022-08-07 22:38:41.184797: I tensorflow/stream_executor/cuda/cuda_gpu_executor.cc:937] successful NUMA node read from SysFS had negative value (-1), but there must be at least one NUMA node, so returning NUMA node zero\n",
      "2022-08-07 22:38:41.368384: I tensorflow/stream_executor/cuda/cuda_gpu_executor.cc:937] successful NUMA node read from SysFS had negative value (-1), but there must be at least one NUMA node, so returning NUMA node zero\n",
      "2022-08-07 22:38:41.372365: I tensorflow/stream_executor/cuda/cuda_gpu_executor.cc:937] successful NUMA node read from SysFS had negative value (-1), but there must be at least one NUMA node, so returning NUMA node zero\n",
      "2022-08-07 22:38:41.377577: I tensorflow/core/platform/cpu_feature_guard.cc:142] This TensorFlow binary is optimized with oneAPI Deep Neural Network Library (oneDNN) to use the following CPU instructions in performance-critical operations:  AVX2 FMA\n",
      "To enable them in other operations, rebuild TensorFlow with the appropriate compiler flags.\n",
      "2022-08-07 22:38:41.378043: I tensorflow/stream_executor/cuda/cuda_gpu_executor.cc:937] successful NUMA node read from SysFS had negative value (-1), but there must be at least one NUMA node, so returning NUMA node zero\n",
      "2022-08-07 22:38:41.382699: I tensorflow/stream_executor/cuda/cuda_gpu_executor.cc:937] successful NUMA node read from SysFS had negative value (-1), but there must be at least one NUMA node, so returning NUMA node zero\n",
      "2022-08-07 22:38:41.386786: I tensorflow/stream_executor/cuda/cuda_gpu_executor.cc:937] successful NUMA node read from SysFS had negative value (-1), but there must be at least one NUMA node, so returning NUMA node zero\n",
      "2022-08-07 22:38:44.688202: I tensorflow/stream_executor/cuda/cuda_gpu_executor.cc:937] successful NUMA node read from SysFS had negative value (-1), but there must be at least one NUMA node, so returning NUMA node zero\n",
      "2022-08-07 22:38:44.694580: I tensorflow/stream_executor/cuda/cuda_gpu_executor.cc:937] successful NUMA node read from SysFS had negative value (-1), but there must be at least one NUMA node, so returning NUMA node zero\n",
      "2022-08-07 22:38:44.699501: I tensorflow/stream_executor/cuda/cuda_gpu_executor.cc:937] successful NUMA node read from SysFS had negative value (-1), but there must be at least one NUMA node, so returning NUMA node zero\n",
      "2022-08-07 22:38:44.703817: I tensorflow/core/common_runtime/gpu/gpu_device.cc:1510] Created device /job:localhost/replica:0/task:0/device:GPU:0 with 15403 MB memory:  -> device: 0, name: Tesla P100-PCIE-16GB, pci bus id: 0000:00:04.0, compute capability: 6.0\n"
     ]
    },
    {
     "name": "stdout",
     "output_type": "stream",
     "text": [
      "Downloading data from https://storage.googleapis.com/tensorflow/keras-applications/xception/xception_weights_tf_dim_ordering_tf_kernels_notop.h5\n",
      "83689472/83683744 [==============================] - 1s 0us/step\n",
      "83697664/83683744 [==============================] - 1s 0us/step\n",
      "Model: \"model\"\n",
      "__________________________________________________________________________________________________\n",
      "Layer (type)                    Output Shape         Param #     Connected to                     \n",
      "==================================================================================================\n",
      "input_1 (InputLayer)            [(None, 192, 192, 3) 0                                            \n",
      "__________________________________________________________________________________________________\n",
      "block1_conv1 (Conv2D)           (None, 95, 95, 32)   864         input_1[0][0]                    \n",
      "__________________________________________________________________________________________________\n",
      "block1_conv1_bn (BatchNormaliza (None, 95, 95, 32)   128         block1_conv1[0][0]               \n",
      "__________________________________________________________________________________________________\n",
      "block1_conv1_act (Activation)   (None, 95, 95, 32)   0           block1_conv1_bn[0][0]            \n",
      "__________________________________________________________________________________________________\n",
      "block1_conv2 (Conv2D)           (None, 93, 93, 64)   18432       block1_conv1_act[0][0]           \n",
      "__________________________________________________________________________________________________\n",
      "block1_conv2_bn (BatchNormaliza (None, 93, 93, 64)   256         block1_conv2[0][0]               \n",
      "__________________________________________________________________________________________________\n",
      "block1_conv2_act (Activation)   (None, 93, 93, 64)   0           block1_conv2_bn[0][0]            \n",
      "__________________________________________________________________________________________________\n",
      "block2_sepconv1 (SeparableConv2 (None, 93, 93, 128)  8768        block1_conv2_act[0][0]           \n",
      "__________________________________________________________________________________________________\n",
      "block2_sepconv1_bn (BatchNormal (None, 93, 93, 128)  512         block2_sepconv1[0][0]            \n",
      "__________________________________________________________________________________________________\n",
      "block2_sepconv2_act (Activation (None, 93, 93, 128)  0           block2_sepconv1_bn[0][0]         \n",
      "__________________________________________________________________________________________________\n",
      "block2_sepconv2 (SeparableConv2 (None, 93, 93, 128)  17536       block2_sepconv2_act[0][0]        \n",
      "__________________________________________________________________________________________________\n",
      "block2_sepconv2_bn (BatchNormal (None, 93, 93, 128)  512         block2_sepconv2[0][0]            \n",
      "__________________________________________________________________________________________________\n",
      "conv2d (Conv2D)                 (None, 47, 47, 128)  8192        block1_conv2_act[0][0]           \n",
      "__________________________________________________________________________________________________\n",
      "block2_pool (MaxPooling2D)      (None, 47, 47, 128)  0           block2_sepconv2_bn[0][0]         \n",
      "__________________________________________________________________________________________________\n",
      "batch_normalization (BatchNorma (None, 47, 47, 128)  512         conv2d[0][0]                     \n",
      "__________________________________________________________________________________________________\n",
      "add (Add)                       (None, 47, 47, 128)  0           block2_pool[0][0]                \n",
      "                                                                 batch_normalization[0][0]        \n",
      "__________________________________________________________________________________________________\n",
      "block3_sepconv1_act (Activation (None, 47, 47, 128)  0           add[0][0]                        \n",
      "__________________________________________________________________________________________________\n",
      "block3_sepconv1 (SeparableConv2 (None, 47, 47, 256)  33920       block3_sepconv1_act[0][0]        \n",
      "__________________________________________________________________________________________________\n",
      "block3_sepconv1_bn (BatchNormal (None, 47, 47, 256)  1024        block3_sepconv1[0][0]            \n",
      "__________________________________________________________________________________________________\n",
      "block3_sepconv2_act (Activation (None, 47, 47, 256)  0           block3_sepconv1_bn[0][0]         \n",
      "__________________________________________________________________________________________________\n",
      "block3_sepconv2 (SeparableConv2 (None, 47, 47, 256)  67840       block3_sepconv2_act[0][0]        \n",
      "__________________________________________________________________________________________________\n",
      "block3_sepconv2_bn (BatchNormal (None, 47, 47, 256)  1024        block3_sepconv2[0][0]            \n",
      "__________________________________________________________________________________________________\n",
      "conv2d_1 (Conv2D)               (None, 24, 24, 256)  32768       add[0][0]                        \n",
      "__________________________________________________________________________________________________\n",
      "block3_pool (MaxPooling2D)      (None, 24, 24, 256)  0           block3_sepconv2_bn[0][0]         \n",
      "__________________________________________________________________________________________________\n",
      "batch_normalization_1 (BatchNor (None, 24, 24, 256)  1024        conv2d_1[0][0]                   \n",
      "__________________________________________________________________________________________________\n",
      "add_1 (Add)                     (None, 24, 24, 256)  0           block3_pool[0][0]                \n",
      "                                                                 batch_normalization_1[0][0]      \n",
      "__________________________________________________________________________________________________\n",
      "block4_sepconv1_act (Activation (None, 24, 24, 256)  0           add_1[0][0]                      \n",
      "__________________________________________________________________________________________________\n",
      "block4_sepconv1 (SeparableConv2 (None, 24, 24, 728)  188672      block4_sepconv1_act[0][0]        \n",
      "__________________________________________________________________________________________________\n",
      "block4_sepconv1_bn (BatchNormal (None, 24, 24, 728)  2912        block4_sepconv1[0][0]            \n",
      "__________________________________________________________________________________________________\n",
      "block4_sepconv2_act (Activation (None, 24, 24, 728)  0           block4_sepconv1_bn[0][0]         \n",
      "__________________________________________________________________________________________________\n",
      "block4_sepconv2 (SeparableConv2 (None, 24, 24, 728)  536536      block4_sepconv2_act[0][0]        \n",
      "__________________________________________________________________________________________________\n",
      "block4_sepconv2_bn (BatchNormal (None, 24, 24, 728)  2912        block4_sepconv2[0][0]            \n",
      "__________________________________________________________________________________________________\n",
      "conv2d_2 (Conv2D)               (None, 12, 12, 728)  186368      add_1[0][0]                      \n",
      "__________________________________________________________________________________________________\n",
      "block4_pool (MaxPooling2D)      (None, 12, 12, 728)  0           block4_sepconv2_bn[0][0]         \n",
      "__________________________________________________________________________________________________\n",
      "batch_normalization_2 (BatchNor (None, 12, 12, 728)  2912        conv2d_2[0][0]                   \n",
      "__________________________________________________________________________________________________\n",
      "add_2 (Add)                     (None, 12, 12, 728)  0           block4_pool[0][0]                \n",
      "                                                                 batch_normalization_2[0][0]      \n",
      "__________________________________________________________________________________________________\n",
      "block5_sepconv1_act (Activation (None, 12, 12, 728)  0           add_2[0][0]                      \n",
      "__________________________________________________________________________________________________\n",
      "block5_sepconv1 (SeparableConv2 (None, 12, 12, 728)  536536      block5_sepconv1_act[0][0]        \n",
      "__________________________________________________________________________________________________\n",
      "block5_sepconv1_bn (BatchNormal (None, 12, 12, 728)  2912        block5_sepconv1[0][0]            \n",
      "__________________________________________________________________________________________________\n",
      "block5_sepconv2_act (Activation (None, 12, 12, 728)  0           block5_sepconv1_bn[0][0]         \n",
      "__________________________________________________________________________________________________\n",
      "block5_sepconv2 (SeparableConv2 (None, 12, 12, 728)  536536      block5_sepconv2_act[0][0]        \n",
      "__________________________________________________________________________________________________\n",
      "block5_sepconv2_bn (BatchNormal (None, 12, 12, 728)  2912        block5_sepconv2[0][0]            \n",
      "__________________________________________________________________________________________________\n",
      "block5_sepconv3_act (Activation (None, 12, 12, 728)  0           block5_sepconv2_bn[0][0]         \n",
      "__________________________________________________________________________________________________\n",
      "block5_sepconv3 (SeparableConv2 (None, 12, 12, 728)  536536      block5_sepconv3_act[0][0]        \n",
      "__________________________________________________________________________________________________\n",
      "block5_sepconv3_bn (BatchNormal (None, 12, 12, 728)  2912        block5_sepconv3[0][0]            \n",
      "__________________________________________________________________________________________________\n",
      "add_3 (Add)                     (None, 12, 12, 728)  0           block5_sepconv3_bn[0][0]         \n",
      "                                                                 add_2[0][0]                      \n",
      "__________________________________________________________________________________________________\n",
      "block6_sepconv1_act (Activation (None, 12, 12, 728)  0           add_3[0][0]                      \n",
      "__________________________________________________________________________________________________\n",
      "block6_sepconv1 (SeparableConv2 (None, 12, 12, 728)  536536      block6_sepconv1_act[0][0]        \n",
      "__________________________________________________________________________________________________\n",
      "block6_sepconv1_bn (BatchNormal (None, 12, 12, 728)  2912        block6_sepconv1[0][0]            \n",
      "__________________________________________________________________________________________________\n",
      "block6_sepconv2_act (Activation (None, 12, 12, 728)  0           block6_sepconv1_bn[0][0]         \n",
      "__________________________________________________________________________________________________\n",
      "block6_sepconv2 (SeparableConv2 (None, 12, 12, 728)  536536      block6_sepconv2_act[0][0]        \n",
      "__________________________________________________________________________________________________\n",
      "block6_sepconv2_bn (BatchNormal (None, 12, 12, 728)  2912        block6_sepconv2[0][0]            \n",
      "__________________________________________________________________________________________________\n",
      "block6_sepconv3_act (Activation (None, 12, 12, 728)  0           block6_sepconv2_bn[0][0]         \n",
      "__________________________________________________________________________________________________\n",
      "block6_sepconv3 (SeparableConv2 (None, 12, 12, 728)  536536      block6_sepconv3_act[0][0]        \n",
      "__________________________________________________________________________________________________\n",
      "block6_sepconv3_bn (BatchNormal (None, 12, 12, 728)  2912        block6_sepconv3[0][0]            \n",
      "__________________________________________________________________________________________________\n",
      "add_4 (Add)                     (None, 12, 12, 728)  0           block6_sepconv3_bn[0][0]         \n",
      "                                                                 add_3[0][0]                      \n",
      "__________________________________________________________________________________________________\n",
      "block7_sepconv1_act (Activation (None, 12, 12, 728)  0           add_4[0][0]                      \n",
      "__________________________________________________________________________________________________\n",
      "block7_sepconv1 (SeparableConv2 (None, 12, 12, 728)  536536      block7_sepconv1_act[0][0]        \n",
      "__________________________________________________________________________________________________\n",
      "block7_sepconv1_bn (BatchNormal (None, 12, 12, 728)  2912        block7_sepconv1[0][0]            \n",
      "__________________________________________________________________________________________________\n",
      "block7_sepconv2_act (Activation (None, 12, 12, 728)  0           block7_sepconv1_bn[0][0]         \n",
      "__________________________________________________________________________________________________\n",
      "block7_sepconv2 (SeparableConv2 (None, 12, 12, 728)  536536      block7_sepconv2_act[0][0]        \n",
      "__________________________________________________________________________________________________\n",
      "block7_sepconv2_bn (BatchNormal (None, 12, 12, 728)  2912        block7_sepconv2[0][0]            \n",
      "__________________________________________________________________________________________________\n",
      "block7_sepconv3_act (Activation (None, 12, 12, 728)  0           block7_sepconv2_bn[0][0]         \n",
      "__________________________________________________________________________________________________\n",
      "block7_sepconv3 (SeparableConv2 (None, 12, 12, 728)  536536      block7_sepconv3_act[0][0]        \n",
      "__________________________________________________________________________________________________\n",
      "block7_sepconv3_bn (BatchNormal (None, 12, 12, 728)  2912        block7_sepconv3[0][0]            \n",
      "__________________________________________________________________________________________________\n",
      "add_5 (Add)                     (None, 12, 12, 728)  0           block7_sepconv3_bn[0][0]         \n",
      "                                                                 add_4[0][0]                      \n",
      "__________________________________________________________________________________________________\n",
      "block8_sepconv1_act (Activation (None, 12, 12, 728)  0           add_5[0][0]                      \n",
      "__________________________________________________________________________________________________\n",
      "block8_sepconv1 (SeparableConv2 (None, 12, 12, 728)  536536      block8_sepconv1_act[0][0]        \n",
      "__________________________________________________________________________________________________\n",
      "block8_sepconv1_bn (BatchNormal (None, 12, 12, 728)  2912        block8_sepconv1[0][0]            \n",
      "__________________________________________________________________________________________________\n",
      "block8_sepconv2_act (Activation (None, 12, 12, 728)  0           block8_sepconv1_bn[0][0]         \n",
      "__________________________________________________________________________________________________\n",
      "block8_sepconv2 (SeparableConv2 (None, 12, 12, 728)  536536      block8_sepconv2_act[0][0]        \n",
      "__________________________________________________________________________________________________\n",
      "block8_sepconv2_bn (BatchNormal (None, 12, 12, 728)  2912        block8_sepconv2[0][0]            \n",
      "__________________________________________________________________________________________________\n",
      "block8_sepconv3_act (Activation (None, 12, 12, 728)  0           block8_sepconv2_bn[0][0]         \n",
      "__________________________________________________________________________________________________\n",
      "block8_sepconv3 (SeparableConv2 (None, 12, 12, 728)  536536      block8_sepconv3_act[0][0]        \n",
      "__________________________________________________________________________________________________\n",
      "block8_sepconv3_bn (BatchNormal (None, 12, 12, 728)  2912        block8_sepconv3[0][0]            \n",
      "__________________________________________________________________________________________________\n",
      "add_6 (Add)                     (None, 12, 12, 728)  0           block8_sepconv3_bn[0][0]         \n",
      "                                                                 add_5[0][0]                      \n",
      "__________________________________________________________________________________________________\n",
      "block9_sepconv1_act (Activation (None, 12, 12, 728)  0           add_6[0][0]                      \n",
      "__________________________________________________________________________________________________\n",
      "block9_sepconv1 (SeparableConv2 (None, 12, 12, 728)  536536      block9_sepconv1_act[0][0]        \n",
      "__________________________________________________________________________________________________\n",
      "block9_sepconv1_bn (BatchNormal (None, 12, 12, 728)  2912        block9_sepconv1[0][0]            \n",
      "__________________________________________________________________________________________________\n",
      "block9_sepconv2_act (Activation (None, 12, 12, 728)  0           block9_sepconv1_bn[0][0]         \n",
      "__________________________________________________________________________________________________\n",
      "block9_sepconv2 (SeparableConv2 (None, 12, 12, 728)  536536      block9_sepconv2_act[0][0]        \n",
      "__________________________________________________________________________________________________\n",
      "block9_sepconv2_bn (BatchNormal (None, 12, 12, 728)  2912        block9_sepconv2[0][0]            \n",
      "__________________________________________________________________________________________________\n",
      "block9_sepconv3_act (Activation (None, 12, 12, 728)  0           block9_sepconv2_bn[0][0]         \n",
      "__________________________________________________________________________________________________\n",
      "block9_sepconv3 (SeparableConv2 (None, 12, 12, 728)  536536      block9_sepconv3_act[0][0]        \n",
      "__________________________________________________________________________________________________\n",
      "block9_sepconv3_bn (BatchNormal (None, 12, 12, 728)  2912        block9_sepconv3[0][0]            \n",
      "__________________________________________________________________________________________________\n",
      "add_7 (Add)                     (None, 12, 12, 728)  0           block9_sepconv3_bn[0][0]         \n",
      "                                                                 add_6[0][0]                      \n",
      "__________________________________________________________________________________________________\n",
      "block10_sepconv1_act (Activatio (None, 12, 12, 728)  0           add_7[0][0]                      \n",
      "__________________________________________________________________________________________________\n",
      "block10_sepconv1 (SeparableConv (None, 12, 12, 728)  536536      block10_sepconv1_act[0][0]       \n",
      "__________________________________________________________________________________________________\n",
      "block10_sepconv1_bn (BatchNorma (None, 12, 12, 728)  2912        block10_sepconv1[0][0]           \n",
      "__________________________________________________________________________________________________\n",
      "block10_sepconv2_act (Activatio (None, 12, 12, 728)  0           block10_sepconv1_bn[0][0]        \n",
      "__________________________________________________________________________________________________\n",
      "block10_sepconv2 (SeparableConv (None, 12, 12, 728)  536536      block10_sepconv2_act[0][0]       \n",
      "__________________________________________________________________________________________________\n",
      "block10_sepconv2_bn (BatchNorma (None, 12, 12, 728)  2912        block10_sepconv2[0][0]           \n",
      "__________________________________________________________________________________________________\n",
      "block10_sepconv3_act (Activatio (None, 12, 12, 728)  0           block10_sepconv2_bn[0][0]        \n",
      "__________________________________________________________________________________________________\n",
      "block10_sepconv3 (SeparableConv (None, 12, 12, 728)  536536      block10_sepconv3_act[0][0]       \n",
      "__________________________________________________________________________________________________\n",
      "block10_sepconv3_bn (BatchNorma (None, 12, 12, 728)  2912        block10_sepconv3[0][0]           \n",
      "__________________________________________________________________________________________________\n",
      "add_8 (Add)                     (None, 12, 12, 728)  0           block10_sepconv3_bn[0][0]        \n",
      "                                                                 add_7[0][0]                      \n",
      "__________________________________________________________________________________________________\n",
      "block11_sepconv1_act (Activatio (None, 12, 12, 728)  0           add_8[0][0]                      \n",
      "__________________________________________________________________________________________________\n",
      "block11_sepconv1 (SeparableConv (None, 12, 12, 728)  536536      block11_sepconv1_act[0][0]       \n",
      "__________________________________________________________________________________________________\n",
      "block11_sepconv1_bn (BatchNorma (None, 12, 12, 728)  2912        block11_sepconv1[0][0]           \n",
      "__________________________________________________________________________________________________\n",
      "block11_sepconv2_act (Activatio (None, 12, 12, 728)  0           block11_sepconv1_bn[0][0]        \n",
      "__________________________________________________________________________________________________\n",
      "block11_sepconv2 (SeparableConv (None, 12, 12, 728)  536536      block11_sepconv2_act[0][0]       \n",
      "__________________________________________________________________________________________________\n",
      "block11_sepconv2_bn (BatchNorma (None, 12, 12, 728)  2912        block11_sepconv2[0][0]           \n",
      "__________________________________________________________________________________________________\n",
      "block11_sepconv3_act (Activatio (None, 12, 12, 728)  0           block11_sepconv2_bn[0][0]        \n",
      "__________________________________________________________________________________________________\n",
      "block11_sepconv3 (SeparableConv (None, 12, 12, 728)  536536      block11_sepconv3_act[0][0]       \n",
      "__________________________________________________________________________________________________\n",
      "block11_sepconv3_bn (BatchNorma (None, 12, 12, 728)  2912        block11_sepconv3[0][0]           \n",
      "__________________________________________________________________________________________________\n",
      "add_9 (Add)                     (None, 12, 12, 728)  0           block11_sepconv3_bn[0][0]        \n",
      "                                                                 add_8[0][0]                      \n",
      "__________________________________________________________________________________________________\n",
      "block12_sepconv1_act (Activatio (None, 12, 12, 728)  0           add_9[0][0]                      \n",
      "__________________________________________________________________________________________________\n",
      "block12_sepconv1 (SeparableConv (None, 12, 12, 728)  536536      block12_sepconv1_act[0][0]       \n",
      "__________________________________________________________________________________________________\n",
      "block12_sepconv1_bn (BatchNorma (None, 12, 12, 728)  2912        block12_sepconv1[0][0]           \n",
      "__________________________________________________________________________________________________\n",
      "block12_sepconv2_act (Activatio (None, 12, 12, 728)  0           block12_sepconv1_bn[0][0]        \n",
      "__________________________________________________________________________________________________\n",
      "block12_sepconv2 (SeparableConv (None, 12, 12, 728)  536536      block12_sepconv2_act[0][0]       \n",
      "__________________________________________________________________________________________________\n",
      "block12_sepconv2_bn (BatchNorma (None, 12, 12, 728)  2912        block12_sepconv2[0][0]           \n",
      "__________________________________________________________________________________________________\n",
      "block12_sepconv3_act (Activatio (None, 12, 12, 728)  0           block12_sepconv2_bn[0][0]        \n",
      "__________________________________________________________________________________________________\n",
      "block12_sepconv3 (SeparableConv (None, 12, 12, 728)  536536      block12_sepconv3_act[0][0]       \n",
      "__________________________________________________________________________________________________\n",
      "block12_sepconv3_bn (BatchNorma (None, 12, 12, 728)  2912        block12_sepconv3[0][0]           \n",
      "__________________________________________________________________________________________________\n",
      "add_10 (Add)                    (None, 12, 12, 728)  0           block12_sepconv3_bn[0][0]        \n",
      "                                                                 add_9[0][0]                      \n",
      "__________________________________________________________________________________________________\n",
      "block13_sepconv1_act (Activatio (None, 12, 12, 728)  0           add_10[0][0]                     \n",
      "__________________________________________________________________________________________________\n",
      "block13_sepconv1 (SeparableConv (None, 12, 12, 728)  536536      block13_sepconv1_act[0][0]       \n",
      "__________________________________________________________________________________________________\n",
      "block13_sepconv1_bn (BatchNorma (None, 12, 12, 728)  2912        block13_sepconv1[0][0]           \n",
      "__________________________________________________________________________________________________\n",
      "block13_sepconv2_act (Activatio (None, 12, 12, 728)  0           block13_sepconv1_bn[0][0]        \n",
      "__________________________________________________________________________________________________\n",
      "block13_sepconv2 (SeparableConv (None, 12, 12, 1024) 752024      block13_sepconv2_act[0][0]       \n",
      "__________________________________________________________________________________________________\n",
      "block13_sepconv2_bn (BatchNorma (None, 12, 12, 1024) 4096        block13_sepconv2[0][0]           \n",
      "__________________________________________________________________________________________________\n",
      "conv2d_3 (Conv2D)               (None, 6, 6, 1024)   745472      add_10[0][0]                     \n",
      "__________________________________________________________________________________________________\n",
      "block13_pool (MaxPooling2D)     (None, 6, 6, 1024)   0           block13_sepconv2_bn[0][0]        \n",
      "__________________________________________________________________________________________________\n",
      "batch_normalization_3 (BatchNor (None, 6, 6, 1024)   4096        conv2d_3[0][0]                   \n",
      "__________________________________________________________________________________________________\n",
      "add_11 (Add)                    (None, 6, 6, 1024)   0           block13_pool[0][0]               \n",
      "                                                                 batch_normalization_3[0][0]      \n",
      "__________________________________________________________________________________________________\n",
      "block14_sepconv1 (SeparableConv (None, 6, 6, 1536)   1582080     add_11[0][0]                     \n",
      "__________________________________________________________________________________________________\n",
      "block14_sepconv1_bn (BatchNorma (None, 6, 6, 1536)   6144        block14_sepconv1[0][0]           \n",
      "__________________________________________________________________________________________________\n",
      "block14_sepconv1_act (Activatio (None, 6, 6, 1536)   0           block14_sepconv1_bn[0][0]        \n",
      "__________________________________________________________________________________________________\n",
      "block14_sepconv2 (SeparableConv (None, 6, 6, 2048)   3159552     block14_sepconv1_act[0][0]       \n",
      "__________________________________________________________________________________________________\n",
      "block14_sepconv2_bn (BatchNorma (None, 6, 6, 2048)   8192        block14_sepconv2[0][0]           \n",
      "__________________________________________________________________________________________________\n",
      "block14_sepconv2_act (Activatio (None, 6, 6, 2048)   0           block14_sepconv2_bn[0][0]        \n",
      "__________________________________________________________________________________________________\n",
      "dropout (Dropout)               (None, 6, 6, 2048)   0           block14_sepconv2_act[0][0]       \n",
      "__________________________________________________________________________________________________\n",
      "separable_conv2d (SeparableConv (None, 4, 4, 256)    542976      dropout[0][0]                    \n",
      "__________________________________________________________________________________________________\n",
      "batch_normalization_4 (BatchNor (None, 4, 4, 256)    1024        separable_conv2d[0][0]           \n",
      "__________________________________________________________________________________________________\n",
      "separable_conv2d_1 (SeparableCo (None, 2, 2, 128)    35200       batch_normalization_4[0][0]      \n",
      "__________________________________________________________________________________________________\n",
      "batch_normalization_5 (BatchNor (None, 2, 2, 128)    512         separable_conv2d_1[0][0]         \n",
      "__________________________________________________________________________________________________\n",
      "separable_conv2d_2 (SeparableCo (None, 2, 2, 51)     6707        batch_normalization_5[0][0]      \n",
      "__________________________________________________________________________________________________\n",
      "global_max_pooling2d (GlobalMax (None, 51)           0           separable_conv2d_2[0][0]         \n",
      "__________________________________________________________________________________________________\n",
      "batch_normalization_6 (BatchNor (None, 51)           204         global_max_pooling2d[0][0]       \n",
      "__________________________________________________________________________________________________\n",
      "flatten (Flatten)               (None, 51)           0           batch_normalization_6[0][0]      \n",
      "__________________________________________________________________________________________________\n",
      "dense (Dense)                   (None, 51)           2652        flatten[0][0]                    \n",
      "==================================================================================================\n",
      "Total params: 21,450,755\n",
      "Trainable params: 588,405\n",
      "Non-trainable params: 20,862,350\n",
      "__________________________________________________________________________________________________\n"
     ]
    }
   ],
   "source": [
    "model = my_model(input_shape = (img_width, img_height, 3), num_classes = selected_df.landmark_id.nunique(), dropout = 0.5)"
   ]
  },
  {
   "cell_type": "code",
   "execution_count": 21,
   "id": "54800f26",
   "metadata": {
    "execution": {
     "iopub.execute_input": "2022-08-07T22:38:48.604880Z",
     "iopub.status.busy": "2022-08-07T22:38:48.604538Z",
     "iopub.status.idle": "2022-08-07T22:38:48.612801Z",
     "shell.execute_reply": "2022-08-07T22:38:48.611369Z"
    },
    "papermill": {
     "duration": 0.029187,
     "end_time": "2022-08-07T22:38:48.617200",
     "exception": false,
     "start_time": "2022-08-07T22:38:48.588013",
     "status": "completed"
    },
    "tags": []
   },
   "outputs": [
    {
     "name": "stdout",
     "output_type": "stream",
     "text": [
      "1068\n",
      "356\n"
     ]
    }
   ],
   "source": [
    "#Try to improve the model\n",
    "epochs = 30 # Defining epochs for the model\n",
    "#epochs = 1\n",
    "train_samples  = int(len(selected_df)*(1-val_split))//batch_size\n",
    "validation_samples  = int(len(selected_df)*val_split)//batch_size\n",
    "\n",
    "print(train_samples)\n",
    "print(validation_samples)"
   ]
  },
  {
   "cell_type": "code",
   "execution_count": 22,
   "id": "c9ae66c2",
   "metadata": {
    "execution": {
     "iopub.execute_input": "2022-08-07T22:38:48.651034Z",
     "iopub.status.busy": "2022-08-07T22:38:48.650672Z",
     "iopub.status.idle": "2022-08-07T22:38:48.672752Z",
     "shell.execute_reply": "2022-08-07T22:38:48.671580Z"
    },
    "papermill": {
     "duration": 0.042209,
     "end_time": "2022-08-07T22:38:48.675739",
     "exception": false,
     "start_time": "2022-08-07T22:38:48.633530",
     "status": "completed"
    },
    "tags": []
   },
   "outputs": [],
   "source": [
    "# Define call backs and metrics:\n",
    "checkpointer = ModelCheckpoint('basic_cnn.h5', monitor='val_loss', verbose=1, save_best_only=True)\n",
    "\n",
    "# Early stopping\n",
    "early_stopping = EarlyStopping(monitor='val_loss', verbose=1, patience=10)\n",
    "\n",
    "METRICS = [\n",
    "    keras.metrics.Accuracy(name= \"accuracy\"),\n",
    "    keras.metrics.Precision(name = \"precision\"),\n",
    "    keras.metrics.Recall(name = 'recall'),\n",
    "    keras.metrics.AUC(name = 'auc'),\n",
    "]"
   ]
  },
  {
   "cell_type": "code",
   "execution_count": 23,
   "id": "0a8ae8c2",
   "metadata": {
    "execution": {
     "iopub.execute_input": "2022-08-07T22:38:48.708483Z",
     "iopub.status.busy": "2022-08-07T22:38:48.707313Z",
     "iopub.status.idle": "2022-08-07T22:45:07.022735Z",
     "shell.execute_reply": "2022-08-07T22:45:07.020894Z"
    },
    "papermill": {
     "duration": 378.335723,
     "end_time": "2022-08-07T22:45:07.026575",
     "exception": false,
     "start_time": "2022-08-07T22:38:48.690852",
     "status": "completed"
    },
    "tags": []
   },
   "outputs": [
    {
     "name": "stderr",
     "output_type": "stream",
     "text": [
      "2022-08-07 22:38:49.245674: I tensorflow/compiler/mlir/mlir_graph_optimization_pass.cc:185] None of the MLIR Optimization Passes are enabled (registered 2)\n"
     ]
    },
    {
     "name": "stdout",
     "output_type": "stream",
     "text": [
      "Epoch 1/30\n"
     ]
    },
    {
     "name": "stderr",
     "output_type": "stream",
     "text": [
      "2022-08-07 22:38:58.022224: I tensorflow/stream_executor/cuda/cuda_dnn.cc:369] Loaded cuDNN version 8005\n"
     ]
    },
    {
     "name": "stdout",
     "output_type": "stream",
     "text": [
      "33/33 [==============================] - 41s 1s/step - loss: 2.8467 - categorical_accuracy: 0.3646 - val_loss: 3.9673 - val_categorical_accuracy: 0.0000e+00\n",
      "\n",
      "Epoch 00001: val_loss improved from inf to 3.96729, saving model to basic_cnn.h5\n",
      "Epoch 2/30\n",
      "33/33 [==============================] - 24s 734ms/step - loss: 2.2739 - categorical_accuracy: 0.4669 - val_loss: 3.9840 - val_categorical_accuracy: 0.0000e+00\n",
      "\n",
      "Epoch 00002: val_loss did not improve from 3.96729\n",
      "Epoch 3/30\n",
      "33/33 [==============================] - 27s 822ms/step - loss: 1.8963 - categorical_accuracy: 0.5672 - val_loss: 4.0104 - val_categorical_accuracy: 0.0000e+00\n",
      "\n",
      "Epoch 00003: val_loss did not improve from 3.96729\n",
      "Epoch 4/30\n",
      "33/33 [==============================] - 24s 724ms/step - loss: 1.7736 - categorical_accuracy: 0.5924 - val_loss: 4.0238 - val_categorical_accuracy: 0.0000e+00\n",
      "\n",
      "Epoch 00004: val_loss did not improve from 3.96729\n",
      "Epoch 5/30\n",
      "33/33 [==============================] - 28s 860ms/step - loss: 1.6398 - categorical_accuracy: 0.6098 - val_loss: 4.0391 - val_categorical_accuracy: 0.0000e+00\n",
      "\n",
      "Epoch 00005: val_loss did not improve from 3.96729\n",
      "Epoch 6/30\n",
      "33/33 [==============================] - 23s 711ms/step - loss: 1.5956 - categorical_accuracy: 0.6231 - val_loss: 4.0668 - val_categorical_accuracy: 0.0000e+00\n",
      "\n",
      "Epoch 00006: val_loss did not improve from 3.96729\n",
      "Epoch 7/30\n",
      "33/33 [==============================] - 24s 727ms/step - loss: 1.4231 - categorical_accuracy: 0.6657 - val_loss: 4.0785 - val_categorical_accuracy: 0.0000e+00\n",
      "\n",
      "Epoch 00007: val_loss did not improve from 3.96729\n",
      "Epoch 8/30\n",
      "33/33 [==============================] - 27s 807ms/step - loss: 1.2961 - categorical_accuracy: 0.6894 - val_loss: 4.1118 - val_categorical_accuracy: 0.0000e+00\n",
      "\n",
      "Epoch 00008: val_loss did not improve from 3.96729\n",
      "Epoch 9/30\n",
      "33/33 [==============================] - 27s 811ms/step - loss: 1.3153 - categorical_accuracy: 0.6752 - val_loss: 4.1325 - val_categorical_accuracy: 0.0000e+00\n",
      "\n",
      "Epoch 00009: val_loss did not improve from 3.96729\n",
      "Epoch 10/30\n",
      "33/33 [==============================] - 23s 688ms/step - loss: 1.2578 - categorical_accuracy: 0.6856 - val_loss: 4.1937 - val_categorical_accuracy: 0.0000e+00\n",
      "\n",
      "Epoch 00010: val_loss did not improve from 3.96729\n",
      "Epoch 11/30\n",
      "33/33 [==============================] - 24s 713ms/step - loss: 1.2029 - categorical_accuracy: 0.6941 - val_loss: 4.2205 - val_categorical_accuracy: 0.0000e+00\n",
      "\n",
      "Epoch 00011: val_loss did not improve from 3.96729\n",
      "Epoch 00011: early stopping\n"
     ]
    }
   ],
   "source": [
    "history = model.fit_generator(\n",
    "        train_generator,\n",
    "        steps_per_epoch=train_samples // batch_size,\n",
    "        epochs=epochs,\n",
    "        callbacks=[checkpointer, early_stopping],\n",
    "        use_multiprocessing=True,\n",
    "        verbose=1,\n",
    "        validation_data=valid_generator,\n",
    "        validation_steps=validation_samples // batch_size,)\n",
    "\n",
    "model.save(\"basic_cnn.h5\")"
   ]
  },
  {
   "cell_type": "markdown",
   "id": "f1e93497",
   "metadata": {
    "papermill": {
     "duration": 0.019994,
     "end_time": "2022-08-07T22:45:07.067707",
     "exception": false,
     "start_time": "2022-08-07T22:45:07.047713",
     "status": "completed"
    },
    "tags": []
   },
   "source": [
    "# Evaluation"
   ]
  },
  {
   "cell_type": "code",
   "execution_count": 24,
   "id": "945bcb89",
   "metadata": {
    "execution": {
     "iopub.execute_input": "2022-08-07T22:45:07.110122Z",
     "iopub.status.busy": "2022-08-07T22:45:07.109295Z",
     "iopub.status.idle": "2022-08-07T22:48:29.521661Z",
     "shell.execute_reply": "2022-08-07T22:48:29.520090Z"
    },
    "papermill": {
     "duration": 202.46129,
     "end_time": "2022-08-07T22:48:29.548489",
     "exception": false,
     "start_time": "2022-08-07T22:45:07.087199",
     "status": "completed"
    },
    "tags": []
   },
   "outputs": [
    {
     "name": "stdout",
     "output_type": "stream",
     "text": [
      "356/356 [==============================] - 143s 401ms/step - loss: 4.2034 - categorical_accuracy: 0.0000e+00\n"
     ]
    },
    {
     "data": {
      "text/plain": [
       "[4.203407287597656, 0.0]"
      ]
     },
     "execution_count": 24,
     "metadata": {},
     "output_type": "execute_result"
    }
   ],
   "source": [
    "#evaluate performance\n",
    "scores = model.evaluate_generator(valid_generator, validation_samples, use_multiprocessing=True, verbose=1)\n",
    "scores"
   ]
  },
  {
   "cell_type": "markdown",
   "id": "7493bf2b",
   "metadata": {
    "papermill": {
     "duration": 0.023047,
     "end_time": "2022-08-07T22:48:29.594790",
     "exception": false,
     "start_time": "2022-08-07T22:48:29.571743",
     "status": "completed"
    },
    "tags": []
   },
   "source": [
    "# Perfrom Prediction"
   ]
  },
  {
   "cell_type": "code",
   "execution_count": 25,
   "id": "7ff0614e",
   "metadata": {
    "execution": {
     "iopub.execute_input": "2022-08-07T22:48:29.643504Z",
     "iopub.status.busy": "2022-08-07T22:48:29.641557Z",
     "iopub.status.idle": "2022-08-07T22:48:31.541641Z",
     "shell.execute_reply": "2022-08-07T22:48:31.538259Z"
    },
    "papermill": {
     "duration": 1.927029,
     "end_time": "2022-08-07T22:48:31.544585",
     "exception": false,
     "start_time": "2022-08-07T22:48:29.617556",
     "status": "completed"
    },
    "tags": []
   },
   "outputs": [
    {
     "name": "stdout",
     "output_type": "stream",
     "text": [
      "Found 10345 non-validated image filenames.\n"
     ]
    }
   ],
   "source": [
    "#predict the output\n",
    "#according to the competition, participant has to submit a file. The file has to contain id, landmarks and correspondence score\n",
    "\n",
    "submission = pd.read_csv(\"/kaggle/input/landmark-recognition-2020/sample_submission.csv\")\n",
    "submission[\"path\"] = submission.id.str[0]+\"/\"+submission.id.str[1]+\"/\"+submission.id.str[2]+\"/\"+submission.id+\".jpg\"\n",
    "best_model = load_model(\"basic_cnn.h5\")\n",
    "\n",
    "test_gen = ImageDataGenerator().flow_from_dataframe(\n",
    "    submission,\n",
    "    directory=\"/kaggle/input/landmark-recognition-2020/test/\",\n",
    "    x_col=\"path\",\n",
    "    y_col=None,\n",
    "    weight_col=None,\n",
    "    target_size=(img_width, img_height),\n",
    "    color_mode=\"rgb\",\n",
    "    classes=None,\n",
    "    class_mode=None,\n",
    "    batch_size=1,\n",
    "    shuffle=True,\n",
    "    subset=None,\n",
    "    interpolation=\"nearest\",\n",
    "    validate_filenames=False)"
   ]
  },
  {
   "cell_type": "code",
   "execution_count": 26,
   "id": "9feee95b",
   "metadata": {
    "execution": {
     "iopub.execute_input": "2022-08-07T22:48:31.594911Z",
     "iopub.status.busy": "2022-08-07T22:48:31.593783Z",
     "iopub.status.idle": "2022-08-07T22:52:55.002221Z",
     "shell.execute_reply": "2022-08-07T22:52:55.000613Z"
    },
    "papermill": {
     "duration": 263.436823,
     "end_time": "2022-08-07T22:52:55.005823",
     "exception": false,
     "start_time": "2022-08-07T22:48:31.569000",
     "status": "completed"
    },
    "tags": []
   },
   "outputs": [
    {
     "name": "stdout",
     "output_type": "stream",
     "text": [
      "10345/10345 [==============================] - 206s 20ms/step\n"
     ]
    }
   ],
   "source": [
    "y_pred_one_hot = best_model.predict_generator(test_gen, verbose=1, steps=len(submission))"
   ]
  },
  {
   "cell_type": "code",
   "execution_count": 27,
   "id": "5e8d22b0",
   "metadata": {
    "execution": {
     "iopub.execute_input": "2022-08-07T22:52:55.463387Z",
     "iopub.status.busy": "2022-08-07T22:52:55.462972Z",
     "iopub.status.idle": "2022-08-07T22:52:55.474636Z",
     "shell.execute_reply": "2022-08-07T22:52:55.472053Z"
    },
    "papermill": {
     "duration": 0.243838,
     "end_time": "2022-08-07T22:52:55.480260",
     "exception": false,
     "start_time": "2022-08-07T22:52:55.236422",
     "status": "completed"
    },
    "tags": []
   },
   "outputs": [
    {
     "name": "stdout",
     "output_type": "stream",
     "text": [
      "(10345,) (10345,)\n"
     ]
    }
   ],
   "source": [
    "y_pred = np.argmax(y_pred_one_hot, axis=-1)\n",
    "\n",
    "y_prob = np.max(y_pred_one_hot, axis=-1)\n",
    "print(y_pred.shape, y_prob.shape)"
   ]
  },
  {
   "cell_type": "code",
   "execution_count": 28,
   "id": "8329b22b",
   "metadata": {
    "execution": {
     "iopub.execute_input": "2022-08-07T22:52:55.934738Z",
     "iopub.status.busy": "2022-08-07T22:52:55.934143Z",
     "iopub.status.idle": "2022-08-07T22:52:55.963468Z",
     "shell.execute_reply": "2022-08-07T22:52:55.962160Z"
    },
    "papermill": {
     "duration": 0.253151,
     "end_time": "2022-08-07T22:52:55.966206",
     "exception": false,
     "start_time": "2022-08-07T22:52:55.713055",
     "status": "completed"
    },
    "tags": []
   },
   "outputs": [],
   "source": [
    "y_uniq = np.unique(selected_df.landmark_id.values)\n",
    "y_pred = [y_uniq[Y] for Y in y_pred]"
   ]
  },
  {
   "cell_type": "code",
   "execution_count": 29,
   "id": "fe9f3098",
   "metadata": {
    "execution": {
     "iopub.execute_input": "2022-08-07T22:52:56.408618Z",
     "iopub.status.busy": "2022-08-07T22:52:56.407205Z",
     "iopub.status.idle": "2022-08-07T22:53:01.956320Z",
     "shell.execute_reply": "2022-08-07T22:53:01.955056Z"
    },
    "papermill": {
     "duration": 5.773787,
     "end_time": "2022-08-07T22:53:01.959120",
     "exception": false,
     "start_time": "2022-08-07T22:52:56.185333",
     "status": "completed"
    },
    "tags": []
   },
   "outputs": [
    {
     "data": {
      "text/html": [
       "<div>\n",
       "<style scoped>\n",
       "    .dataframe tbody tr th:only-of-type {\n",
       "        vertical-align: middle;\n",
       "    }\n",
       "\n",
       "    .dataframe tbody tr th {\n",
       "        vertical-align: top;\n",
       "    }\n",
       "\n",
       "    .dataframe thead th {\n",
       "        text-align: right;\n",
       "    }\n",
       "</style>\n",
       "<table border=\"1\" class=\"dataframe\">\n",
       "  <thead>\n",
       "    <tr style=\"text-align: right;\">\n",
       "      <th></th>\n",
       "      <th>id</th>\n",
       "      <th>landmarks</th>\n",
       "    </tr>\n",
       "  </thead>\n",
       "  <tbody>\n",
       "    <tr>\n",
       "      <th>0</th>\n",
       "      <td>00084cdf8f600d00</td>\n",
       "      <td>189907 0.4858349</td>\n",
       "    </tr>\n",
       "    <tr>\n",
       "      <th>1</th>\n",
       "      <td>000b15b043eb8cf0</td>\n",
       "      <td>126637 0.5395469</td>\n",
       "    </tr>\n",
       "    <tr>\n",
       "      <th>2</th>\n",
       "      <td>0011a52f9b948fd2</td>\n",
       "      <td>189907 0.50240886</td>\n",
       "    </tr>\n",
       "    <tr>\n",
       "      <th>3</th>\n",
       "      <td>00141b8a5a729084</td>\n",
       "      <td>189907 0.728686</td>\n",
       "    </tr>\n",
       "    <tr>\n",
       "      <th>4</th>\n",
       "      <td>0018aa4b92532b77</td>\n",
       "      <td>189907 0.9311677</td>\n",
       "    </tr>\n",
       "  </tbody>\n",
       "</table>\n",
       "</div>"
      ],
      "text/plain": [
       "                 id          landmarks\n",
       "0  00084cdf8f600d00   189907 0.4858349\n",
       "1  000b15b043eb8cf0   126637 0.5395469\n",
       "2  0011a52f9b948fd2  189907 0.50240886\n",
       "3  00141b8a5a729084    189907 0.728686\n",
       "4  0018aa4b92532b77   189907 0.9311677"
      ]
     },
     "execution_count": 29,
     "metadata": {},
     "output_type": "execute_result"
    }
   ],
   "source": [
    "for i in range(len(submission)):\n",
    "    submission.loc[i, \"landmarks\"] = str(y_pred[i])+\" \"+str(y_prob[i])\n",
    "submission = submission.drop(columns=\"path\")\n",
    "#submission.to_csv(\"submission.csv\", index=False)\n",
    "submission.head()"
   ]
  }
 ],
 "metadata": {
  "kernelspec": {
   "display_name": "Python 3",
   "language": "python",
   "name": "python3"
  },
  "language_info": {
   "codemirror_mode": {
    "name": "ipython",
    "version": 3
   },
   "file_extension": ".py",
   "mimetype": "text/x-python",
   "name": "python",
   "nbconvert_exporter": "python",
   "pygments_lexer": "ipython3",
   "version": "3.7.12"
  },
  "papermill": {
   "default_parameters": {},
   "duration": 988.981,
   "end_time": "2022-08-07T22:53:05.597392",
   "environment_variables": {},
   "exception": null,
   "input_path": "__notebook__.ipynb",
   "output_path": "__notebook__.ipynb",
   "parameters": {},
   "start_time": "2022-08-07T22:36:36.616392",
   "version": "2.3.4"
  }
 },
 "nbformat": 4,
 "nbformat_minor": 5
}
